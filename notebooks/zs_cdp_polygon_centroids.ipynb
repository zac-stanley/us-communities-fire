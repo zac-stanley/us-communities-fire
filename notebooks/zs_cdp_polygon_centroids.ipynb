{
 "cells": [
  {
   "cell_type": "markdown",
   "id": "1d7cd367",
   "metadata": {},
   "source": [
    "### Create centroids from polygons for graduated symbol mapping\n",
    "To do this we'll need to project to polygon back to a projected CRS"
   ]
  },
  {
   "cell_type": "code",
   "execution_count": 3,
   "id": "68a58a6b",
   "metadata": {},
   "outputs": [],
   "source": [
    "# import all the libraries\n",
    "import numpy as np\n",
    "import matplotlib as mp\n",
    "import fiona\n",
    "import shapely\n",
    "from shapely.geometry import Polygon, LineString, Point\n",
    "import pandas as pd\n",
    "import geopandas as gpd\n",
    "import rasterio as rio\n",
    "import rasterstats as rs\n",
    "import matplotlib.pyplot as plt\n",
    "from rasterio.plot import show\n",
    "import mapclassify\n",
    "from functools import reduce\n",
    "\n",
    "#change default figure size\n",
    "plt.rcParams['figure.figsize'] = (12,12)\n",
    "\n",
    "# show all columns\n",
    "pd.set_option(\"display.max_columns\", None)"
   ]
  },
  {
   "cell_type": "code",
   "execution_count": 6,
   "id": "203d1fc3",
   "metadata": {},
   "outputs": [],
   "source": [
    "# read in cdps_svis_whp shapefile as dataframe\n",
    "cdps_svis_whp = gpd.read_file(r'C:\\NewMapsPlus\\Map698\\us-communities-fire\\notebooks\\data\\cdps_svis_whp.shp')"
   ]
  },
  {
   "cell_type": "code",
   "execution_count": 7,
   "id": "4d81ff29",
   "metadata": {},
   "outputs": [
    {
     "data": {
      "text/plain": [
       "geopandas.geodataframe.GeoDataFrame"
      ]
     },
     "execution_count": 7,
     "metadata": {},
     "output_type": "execute_result"
    }
   ],
   "source": [
    "# verify the object type\n",
    "type(cdps_svis_whp)"
   ]
  },
  {
   "cell_type": "code",
   "execution_count": 9,
   "id": "1f925550",
   "metadata": {},
   "outputs": [
    {
     "data": {
      "text/html": [
       "<div>\n",
       "<style scoped>\n",
       "    .dataframe tbody tr th:only-of-type {\n",
       "        vertical-align: middle;\n",
       "    }\n",
       "\n",
       "    .dataframe tbody tr th {\n",
       "        vertical-align: top;\n",
       "    }\n",
       "\n",
       "    .dataframe thead th {\n",
       "        text-align: right;\n",
       "    }\n",
       "</style>\n",
       "<table border=\"1\" class=\"dataframe\">\n",
       "  <thead>\n",
       "    <tr style=\"text-align: right;\">\n",
       "      <th></th>\n",
       "      <th>GEOID</th>\n",
       "      <th>ST</th>\n",
       "      <th>STATE</th>\n",
       "      <th>ST_ABBR</th>\n",
       "      <th>STCNTY</th>\n",
       "      <th>COUNTY</th>\n",
       "      <th>FIPS</th>\n",
       "      <th>LOCATION</th>\n",
       "      <th>AREA_SQMI</th>\n",
       "      <th>AFFGEOID_x</th>\n",
       "      <th>NAME_x</th>\n",
       "      <th>NAMELSAD_x</th>\n",
       "      <th>STUSPS_x</th>\n",
       "      <th>STATE_NAME</th>\n",
       "      <th>Acres_x</th>\n",
       "      <th>whp_score</th>\n",
       "      <th>se_wm</th>\n",
       "      <th>hcd_wm</th>\n",
       "      <th>m_wm</th>\n",
       "      <th>htt_wm</th>\n",
       "      <th>overall_wm</th>\n",
       "      <th>geometry</th>\n",
       "    </tr>\n",
       "  </thead>\n",
       "  <tbody>\n",
       "    <tr>\n",
       "      <th>606</th>\n",
       "      <td>0638702</td>\n",
       "      <td>06</td>\n",
       "      <td>CALIFORNIA</td>\n",
       "      <td>CA</td>\n",
       "      <td>06015</td>\n",
       "      <td>Del Norte</td>\n",
       "      <td>06015000203</td>\n",
       "      <td>Census Tract 2.03, Del Norte County, California</td>\n",
       "      <td>142.368516</td>\n",
       "      <td>1600000US0638702</td>\n",
       "      <td>Klamath</td>\n",
       "      <td>Klamath CDP</td>\n",
       "      <td>CA</td>\n",
       "      <td>California</td>\n",
       "      <td>11001.601876</td>\n",
       "      <td>4.0</td>\n",
       "      <td>0.9126</td>\n",
       "      <td>0.8845</td>\n",
       "      <td>0.4485</td>\n",
       "      <td>0.9635</td>\n",
       "      <td>0.941</td>\n",
       "      <td>POLYGON ((-124.09503 41.59129, -124.09048 41.5...</td>\n",
       "    </tr>\n",
       "  </tbody>\n",
       "</table>\n",
       "</div>"
      ],
      "text/plain": [
       "       GEOID  ST       STATE ST_ABBR STCNTY     COUNTY         FIPS  \\\n",
       "606  0638702  06  CALIFORNIA      CA  06015  Del Norte  06015000203   \n",
       "\n",
       "                                            LOCATION   AREA_SQMI  \\\n",
       "606  Census Tract 2.03, Del Norte County, California  142.368516   \n",
       "\n",
       "           AFFGEOID_x   NAME_x   NAMELSAD_x STUSPS_x  STATE_NAME  \\\n",
       "606  1600000US0638702  Klamath  Klamath CDP       CA  California   \n",
       "\n",
       "          Acres_x  whp_score   se_wm  hcd_wm    m_wm  htt_wm  overall_wm  \\\n",
       "606  11001.601876        4.0  0.9126  0.8845  0.4485  0.9635       0.941   \n",
       "\n",
       "                                              geometry  \n",
       "606  POLYGON ((-124.09503 41.59129, -124.09048 41.5...  "
      ]
     },
     "execution_count": 9,
     "metadata": {},
     "output_type": "execute_result"
    }
   ],
   "source": [
    "# get a sample of the data\n",
    "cdps_svis_whp.sample()"
   ]
  },
  {
   "cell_type": "markdown",
   "id": "46693971",
   "metadata": {},
   "source": [
    "#### Project geodataframe for overlay analysis"
   ]
  },
  {
   "cell_type": "code",
   "execution_count": 12,
   "id": "12e8f056",
   "metadata": {},
   "outputs": [
    {
     "data": {
      "text/plain": [
       "<Geographic 2D CRS: EPSG:4326>\n",
       "Name: WGS 84\n",
       "Axis Info [ellipsoidal]:\n",
       "- Lat[north]: Geodetic latitude (degree)\n",
       "- Lon[east]: Geodetic longitude (degree)\n",
       "Area of Use:\n",
       "- name: World\n",
       "- bounds: (-180.0, -90.0, 180.0, 90.0)\n",
       "Datum: World Geodetic System 1984\n",
       "- Ellipsoid: WGS 84\n",
       "- Prime Meridian: Greenwich"
      ]
     },
     "execution_count": 12,
     "metadata": {},
     "output_type": "execute_result"
    }
   ],
   "source": [
    "# check the crs - it's wgs84\n",
    "cdps_svis_whp.crs"
   ]
  },
  {
   "cell_type": "code",
   "execution_count": 27,
   "id": "47ff886b",
   "metadata": {},
   "outputs": [],
   "source": [
    "# set a variable with parameters for USA Contiguous Equidistant\n",
    "project_params  = '+proj=eqdc +lat_0=39 +lon_0=-96 +lat_1=33 +lat_2=45 +x_0=0 +y_0=0 +datum=NAD83 +units=m +no_defs'\n",
    "\n",
    "# reproject and assign to new variables\n",
    "cdps_svis_whp_ec = cdps_svis_whp.to_crs(project_params)"
   ]
  },
  {
   "cell_type": "code",
   "execution_count": 28,
   "id": "49191fe5",
   "metadata": {},
   "outputs": [
    {
     "data": {
      "text/plain": [
       "<Projected CRS: +proj=eqdc +lat_0=39 +lon_0=-96 +lat_1=33 +lat_2=4 ...>\n",
       "Name: unknown\n",
       "Axis Info [cartesian]:\n",
       "- E[east]: Easting (metre)\n",
       "- N[north]: Northing (metre)\n",
       "Area of Use:\n",
       "- undefined\n",
       "Coordinate Operation:\n",
       "- name: unknown\n",
       "- method: Equidistant Conic\n",
       "Datum: North American Datum 1983\n",
       "- Ellipsoid: GRS 1980\n",
       "- Prime Meridian: Greenwich"
      ]
     },
     "execution_count": 28,
     "metadata": {},
     "output_type": "execute_result"
    }
   ],
   "source": [
    "# # check the crs - it's Equidistant Conic\n",
    "cdps_svis_whp_ec.crs"
   ]
  },
  {
   "cell_type": "code",
   "execution_count": 29,
   "id": "83931123",
   "metadata": {},
   "outputs": [
    {
     "data": {
      "text/html": [
       "<div>\n",
       "<style scoped>\n",
       "    .dataframe tbody tr th:only-of-type {\n",
       "        vertical-align: middle;\n",
       "    }\n",
       "\n",
       "    .dataframe tbody tr th {\n",
       "        vertical-align: top;\n",
       "    }\n",
       "\n",
       "    .dataframe thead th {\n",
       "        text-align: right;\n",
       "    }\n",
       "</style>\n",
       "<table border=\"1\" class=\"dataframe\">\n",
       "  <thead>\n",
       "    <tr style=\"text-align: right;\">\n",
       "      <th></th>\n",
       "      <th>GEOID</th>\n",
       "      <th>ST</th>\n",
       "      <th>STATE</th>\n",
       "      <th>ST_ABBR</th>\n",
       "      <th>STCNTY</th>\n",
       "      <th>COUNTY</th>\n",
       "      <th>FIPS</th>\n",
       "      <th>LOCATION</th>\n",
       "      <th>AREA_SQMI</th>\n",
       "      <th>AFFGEOID_x</th>\n",
       "      <th>NAME_x</th>\n",
       "      <th>NAMELSAD_x</th>\n",
       "      <th>STUSPS_x</th>\n",
       "      <th>STATE_NAME</th>\n",
       "      <th>Acres_x</th>\n",
       "      <th>whp_score</th>\n",
       "      <th>se_wm</th>\n",
       "      <th>hcd_wm</th>\n",
       "      <th>m_wm</th>\n",
       "      <th>htt_wm</th>\n",
       "      <th>overall_wm</th>\n",
       "      <th>geometry</th>\n",
       "    </tr>\n",
       "  </thead>\n",
       "  <tbody>\n",
       "    <tr>\n",
       "      <th>76</th>\n",
       "      <td>0135752</td>\n",
       "      <td>01</td>\n",
       "      <td>ALABAMA</td>\n",
       "      <td>AL</td>\n",
       "      <td>01051</td>\n",
       "      <td>Elmore</td>\n",
       "      <td>01051030200</td>\n",
       "      <td>Census Tract 302, Elmore County, Alabama</td>\n",
       "      <td>108.426323</td>\n",
       "      <td>1600000US0135752</td>\n",
       "      <td>Holtville</td>\n",
       "      <td>Holtville CDP</td>\n",
       "      <td>AL</td>\n",
       "      <td>Alabama</td>\n",
       "      <td>16119.064809</td>\n",
       "      <td>3.0</td>\n",
       "      <td>0.753459</td>\n",
       "      <td>0.320586</td>\n",
       "      <td>0.33658</td>\n",
       "      <td>0.824728</td>\n",
       "      <td>0.677009</td>\n",
       "      <td>POLYGON ((911924.691 -658676.371, 912225.324 -...</td>\n",
       "    </tr>\n",
       "  </tbody>\n",
       "</table>\n",
       "</div>"
      ],
      "text/plain": [
       "      GEOID  ST    STATE ST_ABBR STCNTY  COUNTY         FIPS  \\\n",
       "76  0135752  01  ALABAMA      AL  01051  Elmore  01051030200   \n",
       "\n",
       "                                    LOCATION   AREA_SQMI        AFFGEOID_x  \\\n",
       "76  Census Tract 302, Elmore County, Alabama  108.426323  1600000US0135752   \n",
       "\n",
       "       NAME_x     NAMELSAD_x STUSPS_x STATE_NAME       Acres_x  whp_score  \\\n",
       "76  Holtville  Holtville CDP       AL    Alabama  16119.064809        3.0   \n",
       "\n",
       "       se_wm    hcd_wm     m_wm    htt_wm  overall_wm  \\\n",
       "76  0.753459  0.320586  0.33658  0.824728    0.677009   \n",
       "\n",
       "                                             geometry  \n",
       "76  POLYGON ((911924.691 -658676.371, 912225.324 -...  "
      ]
     },
     "execution_count": 29,
     "metadata": {},
     "output_type": "execute_result"
    }
   ],
   "source": [
    "# get a sample of the reprojected data\n",
    "cdps_svis_whp_ec.sample()"
   ]
  },
  {
   "cell_type": "code",
   "execution_count": 46,
   "id": "fc9ac75c",
   "metadata": {},
   "outputs": [
    {
     "name": "stdout",
     "output_type": "stream",
     "text": [
      "<class 'geopandas.geodataframe.GeoDataFrame'>\n",
      "RangeIndex: 2818 entries, 0 to 2817\n",
      "Data columns (total 22 columns):\n",
      " #   Column      Non-Null Count  Dtype   \n",
      "---  ------      --------------  -----   \n",
      " 0   GEOID       2818 non-null   object  \n",
      " 1   ST          2818 non-null   object  \n",
      " 2   STATE       2818 non-null   object  \n",
      " 3   ST_ABBR     2818 non-null   object  \n",
      " 4   STCNTY      2818 non-null   object  \n",
      " 5   COUNTY      2818 non-null   object  \n",
      " 6   FIPS        2818 non-null   object  \n",
      " 7   LOCATION    2818 non-null   object  \n",
      " 8   AREA_SQMI   2818 non-null   float64 \n",
      " 9   AFFGEOID_x  2818 non-null   object  \n",
      " 10  NAME_x      2818 non-null   object  \n",
      " 11  NAMELSAD_x  2818 non-null   object  \n",
      " 12  STUSPS_x    2818 non-null   object  \n",
      " 13  STATE_NAME  2818 non-null   object  \n",
      " 14  Acres_x     2818 non-null   float64 \n",
      " 15  whp_score   2818 non-null   float64 \n",
      " 16  se_wm       2818 non-null   float64 \n",
      " 17  hcd_wm      2818 non-null   float64 \n",
      " 18  m_wm        2818 non-null   float64 \n",
      " 19  htt_wm      2818 non-null   float64 \n",
      " 20  overall_wm  2818 non-null   float64 \n",
      " 21  geometry    2818 non-null   geometry\n",
      "dtypes: float64(8), geometry(1), object(13)\n",
      "memory usage: 484.5+ KB\n"
     ]
    }
   ],
   "source": [
    "cdps_svis_whp_ec.info()"
   ]
  },
  {
   "cell_type": "code",
   "execution_count": 32,
   "id": "5bcf39b0",
   "metadata": {},
   "outputs": [],
   "source": [
    "# change the variable name referencing center 'ctr' for later use\n",
    "cdps_svis_whp_ec = cdps_svis_whp_ctr"
   ]
  },
  {
   "cell_type": "code",
   "execution_count": 33,
   "id": "d4274389",
   "metadata": {},
   "outputs": [],
   "source": [
    "# convert polygon data to centroid \n",
    "cdps_svis_whp_ctr['geometry'] = cdps_svis_whp_ctr['geometry'].centroid"
   ]
  },
  {
   "cell_type": "code",
   "execution_count": 34,
   "id": "9cca3706",
   "metadata": {},
   "outputs": [
    {
     "data": {
      "text/html": [
       "<div>\n",
       "<style scoped>\n",
       "    .dataframe tbody tr th:only-of-type {\n",
       "        vertical-align: middle;\n",
       "    }\n",
       "\n",
       "    .dataframe tbody tr th {\n",
       "        vertical-align: top;\n",
       "    }\n",
       "\n",
       "    .dataframe thead th {\n",
       "        text-align: right;\n",
       "    }\n",
       "</style>\n",
       "<table border=\"1\" class=\"dataframe\">\n",
       "  <thead>\n",
       "    <tr style=\"text-align: right;\">\n",
       "      <th></th>\n",
       "      <th>GEOID</th>\n",
       "      <th>ST</th>\n",
       "      <th>STATE</th>\n",
       "      <th>ST_ABBR</th>\n",
       "      <th>STCNTY</th>\n",
       "      <th>COUNTY</th>\n",
       "      <th>FIPS</th>\n",
       "      <th>LOCATION</th>\n",
       "      <th>AREA_SQMI</th>\n",
       "      <th>AFFGEOID_x</th>\n",
       "      <th>NAME_x</th>\n",
       "      <th>NAMELSAD_x</th>\n",
       "      <th>STUSPS_x</th>\n",
       "      <th>STATE_NAME</th>\n",
       "      <th>Acres_x</th>\n",
       "      <th>whp_score</th>\n",
       "      <th>se_wm</th>\n",
       "      <th>hcd_wm</th>\n",
       "      <th>m_wm</th>\n",
       "      <th>htt_wm</th>\n",
       "      <th>overall_wm</th>\n",
       "      <th>geometry</th>\n",
       "    </tr>\n",
       "  </thead>\n",
       "  <tbody>\n",
       "    <tr>\n",
       "      <th>2044</th>\n",
       "      <td>3676331</td>\n",
       "      <td>36</td>\n",
       "      <td>NEW YORK</td>\n",
       "      <td>NY</td>\n",
       "      <td>36059</td>\n",
       "      <td>Nassau</td>\n",
       "      <td>36059517701</td>\n",
       "      <td>Census Tract 5177.01, Nassau County, New York</td>\n",
       "      <td>14.437381</td>\n",
       "      <td>1600000US3676331</td>\n",
       "      <td>Upper Brookville</td>\n",
       "      <td>Upper Brookville village</td>\n",
       "      <td>NY</td>\n",
       "      <td>New York</td>\n",
       "      <td>2752.095615</td>\n",
       "      <td>4.0</td>\n",
       "      <td>0.018628</td>\n",
       "      <td>0.113787</td>\n",
       "      <td>0.534305</td>\n",
       "      <td>0.177234</td>\n",
       "      <td>0.078058</td>\n",
       "      <td>POINT (1863649.800 435531.928)</td>\n",
       "    </tr>\n",
       "  </tbody>\n",
       "</table>\n",
       "</div>"
      ],
      "text/plain": [
       "        GEOID  ST     STATE ST_ABBR STCNTY  COUNTY         FIPS  \\\n",
       "2044  3676331  36  NEW YORK      NY  36059  Nassau  36059517701   \n",
       "\n",
       "                                           LOCATION  AREA_SQMI  \\\n",
       "2044  Census Tract 5177.01, Nassau County, New York  14.437381   \n",
       "\n",
       "            AFFGEOID_x            NAME_x                NAMELSAD_x STUSPS_x  \\\n",
       "2044  1600000US3676331  Upper Brookville  Upper Brookville village       NY   \n",
       "\n",
       "     STATE_NAME      Acres_x  whp_score     se_wm    hcd_wm      m_wm  \\\n",
       "2044   New York  2752.095615        4.0  0.018628  0.113787  0.534305   \n",
       "\n",
       "        htt_wm  overall_wm                        geometry  \n",
       "2044  0.177234    0.078058  POINT (1863649.800 435531.928)  "
      ]
     },
     "execution_count": 34,
     "metadata": {},
     "output_type": "execute_result"
    }
   ],
   "source": [
    "# get a sample of the centroids and notice that the geometry is now point\n",
    "cdps_svis_whp_ctr.sample()"
   ]
  },
  {
   "cell_type": "markdown",
   "id": "e0ff23ba",
   "metadata": {},
   "source": [
    "#### STOPPED HERE 3/30/2022 - NEED TO PLOT CENTROID IN POLYGON"
   ]
  },
  {
   "cell_type": "code",
   "execution_count": null,
   "id": "d858c4bc",
   "metadata": {},
   "outputs": [],
   "source": []
  }
 ],
 "metadata": {
  "kernelspec": {
   "display_name": "Python 3 (ipykernel)",
   "language": "python",
   "name": "python3"
  },
  "language_info": {
   "codemirror_mode": {
    "name": "ipython",
    "version": 3
   },
   "file_extension": ".py",
   "mimetype": "text/x-python",
   "name": "python",
   "nbconvert_exporter": "python",
   "pygments_lexer": "ipython3",
   "version": "3.7.11"
  }
 },
 "nbformat": 4,
 "nbformat_minor": 5
}
