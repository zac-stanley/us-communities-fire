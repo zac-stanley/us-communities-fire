{
 "cells": [
  {
   "cell_type": "markdown",
   "id": "4f345c70",
   "metadata": {},
   "source": [
    "### Create centroids from polygons for graduated symbol mapping\n",
    "To do this we'll need to project to polygon back to a projected CRS"
   ]
  },
  {
   "cell_type": "code",
   "execution_count": 2,
   "id": "ec3bb8ea",
   "metadata": {},
   "outputs": [],
   "source": [
    "# import all the libraries\n",
    "import numpy as np\n",
    "import matplotlib as mp\n",
    "import fiona\n",
    "import shapely\n",
    "from shapely.geometry import Polygon, LineString, Point\n",
    "import pandas as pd\n",
    "import geopandas as gpd\n",
    "import rasterio as rio\n",
    "import rasterstats as rs\n",
    "import matplotlib.pyplot as plt\n",
    "from rasterio.plot import show\n",
    "import mapclassify\n",
    "from functools import reduce\n",
    "\n",
    "#change default figure size\n",
    "plt.rcParams['figure.figsize'] = (12,12)\n",
    "\n",
    "# show all columns\n",
    "pd.set_option(\"display.max_columns\", None)"
   ]
  },
  {
   "cell_type": "code",
   "execution_count": 3,
   "id": "493f4e95",
   "metadata": {},
   "outputs": [],
   "source": [
    "# read in cdps_svis_whp shapefile as dataframe\n",
    "cdps_svis_whp = gpd.read_file(r'C:\\NewMapsPlus\\Map698\\us-communities-fire\\notebooks\\data\\cdps_svis_whp.shp')"
   ]
  },
  {
   "cell_type": "code",
   "execution_count": 4,
   "id": "0360428e",
   "metadata": {},
   "outputs": [
    {
     "data": {
      "text/plain": [
       "geopandas.geodataframe.GeoDataFrame"
      ]
     },
     "execution_count": 4,
     "metadata": {},
     "output_type": "execute_result"
    }
   ],
   "source": [
    "# verify the object type\n",
    "type(cdps_svis_whp)"
   ]
  },
  {
   "cell_type": "code",
   "execution_count": 5,
   "id": "5a601dc3",
   "metadata": {},
   "outputs": [
    {
     "data": {
      "text/html": [
       "<div>\n",
       "<style scoped>\n",
       "    .dataframe tbody tr th:only-of-type {\n",
       "        vertical-align: middle;\n",
       "    }\n",
       "\n",
       "    .dataframe tbody tr th {\n",
       "        vertical-align: top;\n",
       "    }\n",
       "\n",
       "    .dataframe thead th {\n",
       "        text-align: right;\n",
       "    }\n",
       "</style>\n",
       "<table border=\"1\" class=\"dataframe\">\n",
       "  <thead>\n",
       "    <tr style=\"text-align: right;\">\n",
       "      <th></th>\n",
       "      <th>GEOID</th>\n",
       "      <th>ST</th>\n",
       "      <th>STATE</th>\n",
       "      <th>ST_ABBR</th>\n",
       "      <th>STCNTY</th>\n",
       "      <th>COUNTY</th>\n",
       "      <th>FIPS</th>\n",
       "      <th>LOCATION</th>\n",
       "      <th>AREA_SQMI</th>\n",
       "      <th>AFFGEOID_x</th>\n",
       "      <th>NAME_x</th>\n",
       "      <th>NAMELSAD_x</th>\n",
       "      <th>STUSPS_x</th>\n",
       "      <th>STATE_NAME</th>\n",
       "      <th>Acres_x</th>\n",
       "      <th>whp_score</th>\n",
       "      <th>se_wm</th>\n",
       "      <th>hcd_wm</th>\n",
       "      <th>m_wm</th>\n",
       "      <th>htt_wm</th>\n",
       "      <th>overall_wm</th>\n",
       "      <th>geometry</th>\n",
       "    </tr>\n",
       "  </thead>\n",
       "  <tbody>\n",
       "    <tr>\n",
       "      <th>100</th>\n",
       "      <td>0151456</td>\n",
       "      <td>01</td>\n",
       "      <td>ALABAMA</td>\n",
       "      <td>AL</td>\n",
       "      <td>01073</td>\n",
       "      <td>Jefferson</td>\n",
       "      <td>01073011302</td>\n",
       "      <td>Census Tract 113.02, Jefferson County, Alabama</td>\n",
       "      <td>19.835812</td>\n",
       "      <td>1600000US0151456</td>\n",
       "      <td>Morris</td>\n",
       "      <td>Morris town</td>\n",
       "      <td>AL</td>\n",
       "      <td>Alabama</td>\n",
       "      <td>2046.095521</td>\n",
       "      <td>3.0</td>\n",
       "      <td>0.368524</td>\n",
       "      <td>0.631279</td>\n",
       "      <td>0.121707</td>\n",
       "      <td>0.17392</td>\n",
       "      <td>0.234538</td>\n",
       "      <td>POLYGON ((-86.79738 33.72546, -86.79770 33.724...</td>\n",
       "    </tr>\n",
       "  </tbody>\n",
       "</table>\n",
       "</div>"
      ],
      "text/plain": [
       "       GEOID  ST    STATE ST_ABBR STCNTY     COUNTY         FIPS  \\\n",
       "100  0151456  01  ALABAMA      AL  01073  Jefferson  01073011302   \n",
       "\n",
       "                                           LOCATION  AREA_SQMI  \\\n",
       "100  Census Tract 113.02, Jefferson County, Alabama  19.835812   \n",
       "\n",
       "           AFFGEOID_x  NAME_x   NAMELSAD_x STUSPS_x STATE_NAME      Acres_x  \\\n",
       "100  1600000US0151456  Morris  Morris town       AL    Alabama  2046.095521   \n",
       "\n",
       "     whp_score     se_wm    hcd_wm      m_wm   htt_wm  overall_wm  \\\n",
       "100        3.0  0.368524  0.631279  0.121707  0.17392    0.234538   \n",
       "\n",
       "                                              geometry  \n",
       "100  POLYGON ((-86.79738 33.72546, -86.79770 33.724...  "
      ]
     },
     "execution_count": 5,
     "metadata": {},
     "output_type": "execute_result"
    }
   ],
   "source": [
    "# get a sample of the data\n",
    "cdps_svis_whp.sample()"
   ]
  },
  {
   "cell_type": "markdown",
   "id": "41bb6d31",
   "metadata": {},
   "source": [
    "#### Project geodataframe for overlay analysis"
   ]
  },
  {
   "cell_type": "code",
   "execution_count": 6,
   "id": "5792e1c7",
   "metadata": {},
   "outputs": [
    {
     "data": {
      "text/plain": [
       "<Geographic 2D CRS: EPSG:4326>\n",
       "Name: WGS 84\n",
       "Axis Info [ellipsoidal]:\n",
       "- Lat[north]: Geodetic latitude (degree)\n",
       "- Lon[east]: Geodetic longitude (degree)\n",
       "Area of Use:\n",
       "- name: World\n",
       "- bounds: (-180.0, -90.0, 180.0, 90.0)\n",
       "Datum: World Geodetic System 1984\n",
       "- Ellipsoid: WGS 84\n",
       "- Prime Meridian: Greenwich"
      ]
     },
     "execution_count": 6,
     "metadata": {},
     "output_type": "execute_result"
    }
   ],
   "source": [
    "# check the crs - it's wgs84\n",
    "cdps_svis_whp.crs"
   ]
  },
  {
   "cell_type": "code",
   "execution_count": 7,
   "id": "0aa78c21",
   "metadata": {},
   "outputs": [],
   "source": [
    "# set a variable with parameters for USA Contiguous Equidistant\n",
    "project_params  = '+proj=eqdc +lat_0=39 +lon_0=-96 +lat_1=33 +lat_2=45 +x_0=0 +y_0=0 +datum=NAD83 +units=m +no_defs'\n",
    "\n",
    "# reproject and assign to new variable\n",
    "cdps_svis_whp_ec = cdps_svis_whp.to_crs(project_params)"
   ]
  },
  {
   "cell_type": "code",
   "execution_count": 8,
   "id": "6ccabab3",
   "metadata": {},
   "outputs": [
    {
     "data": {
      "text/plain": [
       "<Projected CRS: +proj=eqdc +lat_0=39 +lon_0=-96 +lat_1=33 +lat_2=4 ...>\n",
       "Name: unknown\n",
       "Axis Info [cartesian]:\n",
       "- E[east]: Easting (metre)\n",
       "- N[north]: Northing (metre)\n",
       "Area of Use:\n",
       "- undefined\n",
       "Coordinate Operation:\n",
       "- name: unknown\n",
       "- method: Equidistant Conic\n",
       "Datum: North American Datum 1983\n",
       "- Ellipsoid: GRS 1980\n",
       "- Prime Meridian: Greenwich"
      ]
     },
     "execution_count": 8,
     "metadata": {},
     "output_type": "execute_result"
    }
   ],
   "source": [
    "# # check the crs - it's Equidistant Conic\n",
    "cdps_svis_whp_ec.crs"
   ]
  },
  {
   "cell_type": "code",
   "execution_count": 9,
   "id": "8e96cfcb",
   "metadata": {},
   "outputs": [
    {
     "data": {
      "text/html": [
       "<div>\n",
       "<style scoped>\n",
       "    .dataframe tbody tr th:only-of-type {\n",
       "        vertical-align: middle;\n",
       "    }\n",
       "\n",
       "    .dataframe tbody tr th {\n",
       "        vertical-align: top;\n",
       "    }\n",
       "\n",
       "    .dataframe thead th {\n",
       "        text-align: right;\n",
       "    }\n",
       "</style>\n",
       "<table border=\"1\" class=\"dataframe\">\n",
       "  <thead>\n",
       "    <tr style=\"text-align: right;\">\n",
       "      <th></th>\n",
       "      <th>GEOID</th>\n",
       "      <th>ST</th>\n",
       "      <th>STATE</th>\n",
       "      <th>ST_ABBR</th>\n",
       "      <th>STCNTY</th>\n",
       "      <th>COUNTY</th>\n",
       "      <th>FIPS</th>\n",
       "      <th>LOCATION</th>\n",
       "      <th>AREA_SQMI</th>\n",
       "      <th>AFFGEOID_x</th>\n",
       "      <th>NAME_x</th>\n",
       "      <th>NAMELSAD_x</th>\n",
       "      <th>STUSPS_x</th>\n",
       "      <th>STATE_NAME</th>\n",
       "      <th>Acres_x</th>\n",
       "      <th>whp_score</th>\n",
       "      <th>se_wm</th>\n",
       "      <th>hcd_wm</th>\n",
       "      <th>m_wm</th>\n",
       "      <th>htt_wm</th>\n",
       "      <th>overall_wm</th>\n",
       "      <th>geometry</th>\n",
       "    </tr>\n",
       "  </thead>\n",
       "  <tbody>\n",
       "    <tr>\n",
       "      <th>502</th>\n",
       "      <td>0619570</td>\n",
       "      <td>06</td>\n",
       "      <td>CALIFORNIA</td>\n",
       "      <td>CA</td>\n",
       "      <td>06009</td>\n",
       "      <td>Calaveras</td>\n",
       "      <td>06009000504</td>\n",
       "      <td>Census Tract 5.04, Calaveras County, California</td>\n",
       "      <td>139.248746</td>\n",
       "      <td>1600000US0619570</td>\n",
       "      <td>Dorrington</td>\n",
       "      <td>Dorrington CDP</td>\n",
       "      <td>CA</td>\n",
       "      <td>California</td>\n",
       "      <td>2616.709351</td>\n",
       "      <td>5.0</td>\n",
       "      <td>0.6012</td>\n",
       "      <td>0.554</td>\n",
       "      <td>0.0774</td>\n",
       "      <td>0.5562</td>\n",
       "      <td>0.4683</td>\n",
       "      <td>POLYGON ((-2088677.571 200893.017, -2088498.79...</td>\n",
       "    </tr>\n",
       "  </tbody>\n",
       "</table>\n",
       "</div>"
      ],
      "text/plain": [
       "       GEOID  ST       STATE ST_ABBR STCNTY     COUNTY         FIPS  \\\n",
       "502  0619570  06  CALIFORNIA      CA  06009  Calaveras  06009000504   \n",
       "\n",
       "                                            LOCATION   AREA_SQMI  \\\n",
       "502  Census Tract 5.04, Calaveras County, California  139.248746   \n",
       "\n",
       "           AFFGEOID_x      NAME_x      NAMELSAD_x STUSPS_x  STATE_NAME  \\\n",
       "502  1600000US0619570  Dorrington  Dorrington CDP       CA  California   \n",
       "\n",
       "         Acres_x  whp_score   se_wm  hcd_wm    m_wm  htt_wm  overall_wm  \\\n",
       "502  2616.709351        5.0  0.6012   0.554  0.0774  0.5562      0.4683   \n",
       "\n",
       "                                              geometry  \n",
       "502  POLYGON ((-2088677.571 200893.017, -2088498.79...  "
      ]
     },
     "execution_count": 9,
     "metadata": {},
     "output_type": "execute_result"
    }
   ],
   "source": [
    "# get a sample of the reprojected data\n",
    "cdps_svis_whp_ec.sample()"
   ]
  },
  {
   "cell_type": "code",
   "execution_count": 10,
   "id": "b6e17d04",
   "metadata": {},
   "outputs": [
    {
     "name": "stdout",
     "output_type": "stream",
     "text": [
      "<class 'geopandas.geodataframe.GeoDataFrame'>\n",
      "RangeIndex: 2818 entries, 0 to 2817\n",
      "Data columns (total 22 columns):\n",
      " #   Column      Non-Null Count  Dtype   \n",
      "---  ------      --------------  -----   \n",
      " 0   GEOID       2818 non-null   object  \n",
      " 1   ST          2818 non-null   object  \n",
      " 2   STATE       2818 non-null   object  \n",
      " 3   ST_ABBR     2818 non-null   object  \n",
      " 4   STCNTY      2818 non-null   object  \n",
      " 5   COUNTY      2818 non-null   object  \n",
      " 6   FIPS        2818 non-null   object  \n",
      " 7   LOCATION    2818 non-null   object  \n",
      " 8   AREA_SQMI   2818 non-null   float64 \n",
      " 9   AFFGEOID_x  2818 non-null   object  \n",
      " 10  NAME_x      2818 non-null   object  \n",
      " 11  NAMELSAD_x  2818 non-null   object  \n",
      " 12  STUSPS_x    2818 non-null   object  \n",
      " 13  STATE_NAME  2818 non-null   object  \n",
      " 14  Acres_x     2818 non-null   float64 \n",
      " 15  whp_score   2818 non-null   float64 \n",
      " 16  se_wm       2818 non-null   float64 \n",
      " 17  hcd_wm      2818 non-null   float64 \n",
      " 18  m_wm        2818 non-null   float64 \n",
      " 19  htt_wm      2818 non-null   float64 \n",
      " 20  overall_wm  2818 non-null   float64 \n",
      " 21  geometry    2818 non-null   geometry\n",
      "dtypes: float64(8), geometry(1), object(13)\n",
      "memory usage: 484.5+ KB\n"
     ]
    }
   ],
   "source": [
    "cdps_svis_whp_ctr.info()"
   ]
  },
  {
   "cell_type": "code",
   "execution_count": 17,
   "id": "dc7c581a",
   "metadata": {},
   "outputs": [],
   "source": [
    "# change variable name for later use\n",
    "cdps_svi_whp_ec = cdps_svis_whp_ctr"
   ]
  },
  {
   "cell_type": "code",
   "execution_count": 18,
   "id": "1e7918bc",
   "metadata": {},
   "outputs": [],
   "source": [
    "# convert polygon data to centroid \n",
    "cdps_svis_whp_ctr['geometry'] = cdps_svis_whp_ctr['geometry'].centroid"
   ]
  },
  {
   "cell_type": "code",
   "execution_count": 19,
   "id": "0035562d",
   "metadata": {},
   "outputs": [
    {
     "data": {
      "text/html": [
       "<div>\n",
       "<style scoped>\n",
       "    .dataframe tbody tr th:only-of-type {\n",
       "        vertical-align: middle;\n",
       "    }\n",
       "\n",
       "    .dataframe tbody tr th {\n",
       "        vertical-align: top;\n",
       "    }\n",
       "\n",
       "    .dataframe thead th {\n",
       "        text-align: right;\n",
       "    }\n",
       "</style>\n",
       "<table border=\"1\" class=\"dataframe\">\n",
       "  <thead>\n",
       "    <tr style=\"text-align: right;\">\n",
       "      <th></th>\n",
       "      <th>GEOID</th>\n",
       "      <th>ST</th>\n",
       "      <th>STATE</th>\n",
       "      <th>ST_ABBR</th>\n",
       "      <th>STCNTY</th>\n",
       "      <th>COUNTY</th>\n",
       "      <th>FIPS</th>\n",
       "      <th>LOCATION</th>\n",
       "      <th>AREA_SQMI</th>\n",
       "      <th>AFFGEOID_x</th>\n",
       "      <th>NAME_x</th>\n",
       "      <th>NAMELSAD_x</th>\n",
       "      <th>STUSPS_x</th>\n",
       "      <th>STATE_NAME</th>\n",
       "      <th>Acres_x</th>\n",
       "      <th>whp_score</th>\n",
       "      <th>se_wm</th>\n",
       "      <th>hcd_wm</th>\n",
       "      <th>m_wm</th>\n",
       "      <th>htt_wm</th>\n",
       "      <th>overall_wm</th>\n",
       "      <th>geometry</th>\n",
       "    </tr>\n",
       "  </thead>\n",
       "  <tbody>\n",
       "    <tr>\n",
       "      <th>1702</th>\n",
       "      <td>3237190</td>\n",
       "      <td>32</td>\n",
       "      <td>NEVADA</td>\n",
       "      <td>NV</td>\n",
       "      <td>32005</td>\n",
       "      <td>Douglas</td>\n",
       "      <td>32005001900</td>\n",
       "      <td>Census Tract 19, Douglas County, Nevada</td>\n",
       "      <td>56.811046</td>\n",
       "      <td>1600000US3237190</td>\n",
       "      <td>Johnson Lane</td>\n",
       "      <td>Johnson Lane CDP</td>\n",
       "      <td>NV</td>\n",
       "      <td>Nevada</td>\n",
       "      <td>13986.044444</td>\n",
       "      <td>3.0</td>\n",
       "      <td>0.09532</td>\n",
       "      <td>0.293437</td>\n",
       "      <td>0.192435</td>\n",
       "      <td>0.054948</td>\n",
       "      <td>0.043774</td>\n",
       "      <td>POINT (-2019585.500 269590.205)</td>\n",
       "    </tr>\n",
       "  </tbody>\n",
       "</table>\n",
       "</div>"
      ],
      "text/plain": [
       "        GEOID  ST   STATE ST_ABBR STCNTY   COUNTY         FIPS  \\\n",
       "1702  3237190  32  NEVADA      NV  32005  Douglas  32005001900   \n",
       "\n",
       "                                     LOCATION  AREA_SQMI        AFFGEOID_x  \\\n",
       "1702  Census Tract 19, Douglas County, Nevada  56.811046  1600000US3237190   \n",
       "\n",
       "            NAME_x        NAMELSAD_x STUSPS_x STATE_NAME       Acres_x  \\\n",
       "1702  Johnson Lane  Johnson Lane CDP       NV     Nevada  13986.044444   \n",
       "\n",
       "      whp_score    se_wm    hcd_wm      m_wm    htt_wm  overall_wm  \\\n",
       "1702        3.0  0.09532  0.293437  0.192435  0.054948    0.043774   \n",
       "\n",
       "                             geometry  \n",
       "1702  POINT (-2019585.500 269590.205)  "
      ]
     },
     "execution_count": 19,
     "metadata": {},
     "output_type": "execute_result"
    }
   ],
   "source": [
    "# get a sample of the centroids and notice that the geometry is now point\n",
    "cdps_svis_whp_ctr.sample()"
   ]
  },
  {
   "cell_type": "code",
   "execution_count": 13,
   "id": "f7b18965",
   "metadata": {},
   "outputs": [],
   "source": [
    "cdps_svis_whp_ctr.to_file(r'C:\\NewMapsPlus\\Map698\\us-communities-fire\\notebooks\\data\\cdps_svis_whp_ctr.shp')"
   ]
  },
  {
   "cell_type": "markdown",
   "id": "6dcbcf61",
   "metadata": {},
   "source": [
    "#### STOPPED HERE 3/30/2022 - NEED TO PLOT CENTROID IN POLYGON"
   ]
  },
  {
   "cell_type": "code",
   "execution_count": null,
   "id": "6cbfd90a",
   "metadata": {},
   "outputs": [],
   "source": [
    "cdps_svis_whp_ctr.explor"
   ]
  }
 ],
 "metadata": {
  "kernelspec": {
   "display_name": "Python 3 (ipykernel)",
   "language": "python",
   "name": "python3"
  },
  "language_info": {
   "codemirror_mode": {
    "name": "ipython",
    "version": 3
   },
   "file_extension": ".py",
   "mimetype": "text/x-python",
   "name": "python",
   "nbconvert_exporter": "python",
   "pygments_lexer": "ipython3",
   "version": "3.7.11"
  }
 },
 "nbformat": 4,
 "nbformat_minor": 5
}
