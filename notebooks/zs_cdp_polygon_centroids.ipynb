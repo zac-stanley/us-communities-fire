{
 "cells": [
  {
   "cell_type": "markdown",
   "id": "5036965c",
   "metadata": {},
   "source": [
    "### Create centroids from polygons for graduated symbol mapping NEED MORE WORK - STOPPED HERE 03/9/2022\n",
    "To do this we'll need to project to polygon back to a projected CRS"
   ]
  },
  {
   "cell_type": "code",
   "execution_count": null,
   "id": "bafc096b",
   "metadata": {},
   "outputs": [],
   "source": [
    "# import all the libraries\n",
    "import numpy as np\n",
    "import matplotlib as mp\n",
    "import fiona\n",
    "import shapely\n",
    "from shapely.geometry import Polygon, LineString, Point\n",
    "import pandas as pd\n",
    "import geopandas as gpd\n",
    "import rasterio as rio\n",
    "import rasterstats as rs\n",
    "import matplotlib.pyplot as plt\n",
    "from rasterio.plot import show\n",
    "import mapclassify\n",
    "from functools import reduce\n",
    "\n",
    "#change default figure size\n",
    "plt.rcParams['figure.figsize'] = (12,12)\n",
    "\n",
    "# show all columns\n",
    "pd.set_option(\"display.max_columns\", None)"
   ]
  },
  {
   "cell_type": "code",
   "execution_count": null,
   "id": "a4fdd4f3",
   "metadata": {},
   "outputs": [],
   "source": []
  },
  {
   "cell_type": "code",
   "execution_count": null,
   "id": "25cfda96",
   "metadata": {},
   "outputs": [],
   "source": [
    "# set a variable with parameters for USA Contiguous Equidistant\n",
    "project_params  = '+proj=eqdc +lat_0=39 +lon_0=-96 +lat_1=33 +lat_2=45 +x_0=0 +y_0=0 +datum=NAD83 +units=m +no_defs'\n",
    "\n",
    "# reproject and assign to new variables\n",
    "cdps_svis_whp_ec = cdps_svis_whp.to_crs(project_params)"
   ]
  },
  {
   "cell_type": "code",
   "execution_count": null,
   "id": "877c0aa7",
   "metadata": {},
   "outputs": [],
   "source": [
    "# convert data to centroid and results in a geoseries\n",
    "cdps_svis_whp_ctr = cdps_svis_whp_ec['center']=cdps_svis_whp.centroid"
   ]
  },
  {
   "cell_type": "code",
   "execution_count": null,
   "id": "2b0b10fd",
   "metadata": {},
   "outputs": [],
   "source": [
    "cdps_svis_whp_ctr_df = gpd.GeoDataFrame(geometry=gpd.GeoSeries(cdps_svis_whp_ctr))"
   ]
  },
  {
   "cell_type": "code",
   "execution_count": null,
   "id": "c0ae128a",
   "metadata": {},
   "outputs": [],
   "source": [
    "cdps_svis_whp_ctr_df.info()"
   ]
  },
  {
   "cell_type": "code",
   "execution_count": null,
   "id": "3a0a41ab",
   "metadata": {},
   "outputs": [],
   "source": [
    "# spatially join centroids to polygons to get the data for graduated symbol mapping\n",
    "cdps_svis_whp_pts = cdps_svis_whp_ctr_df.sjoin(cdps_svis_whp_ec, how='right', predicate='intersects')"
   ]
  },
  {
   "cell_type": "code",
   "execution_count": null,
   "id": "54628e5c",
   "metadata": {},
   "outputs": [],
   "source": [
    "cdps_svis_whp_pts.info()"
   ]
  },
  {
   "cell_type": "code",
   "execution_count": null,
   "id": "ab1294ea",
   "metadata": {},
   "outputs": [],
   "source": [
    "cdps_svis_whp_pts.head(10)"
   ]
  },
  {
   "cell_type": "code",
   "execution_count": null,
   "id": "aa7d5719",
   "metadata": {},
   "outputs": [],
   "source": [
    "# plot the resulting dataframe interactively\n",
    "cdps_svis_whp_pts.explore(tooltip=['GEOID','NAMELSAD_x', 'whp_score', 'se_wm','hcd_wm','m_wm','htt_wm','overall_wm'])"
   ]
  }
 ],
 "metadata": {
  "kernelspec": {
   "display_name": "Python 3 (ipykernel)",
   "language": "python",
   "name": "python3"
  },
  "language_info": {
   "codemirror_mode": {
    "name": "ipython",
    "version": 3
   },
   "file_extension": ".py",
   "mimetype": "text/x-python",
   "name": "python",
   "nbconvert_exporter": "python",
   "pygments_lexer": "ipython3",
   "version": "3.7.11"
  }
 },
 "nbformat": 4,
 "nbformat_minor": 5
}
