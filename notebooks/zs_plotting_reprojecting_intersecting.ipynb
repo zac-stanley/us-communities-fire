{
 "cells": [
  {
   "cell_type": "markdown",
   "id": "c91f6e08",
   "metadata": {},
   "source": [
    "## Summarize Individual Census Tracts within Designated Places\n",
    "This notebook will attempt to clip or intersect census tracts inside the 3,4,5, WFH class census desinated places (CDP). The results of that overlay operation will then be assigned a weighted SVI score based on the amount of area they occupy in an individual CDP. These values will then be averaged resulting the arithmetic mean of the 4 thematic rankings and overall summary ranking for each CDP."
   ]
  },
  {
   "cell_type": "code",
   "execution_count": 8,
   "id": "0bb67117",
   "metadata": {},
   "outputs": [],
   "source": [
    "# import all the libraries\n",
    "import numpy as np\n",
    "import matplotlib as mp\n",
    "import fiona\n",
    "import shapely\n",
    "from shapely.geometry import Polygon, LineString\n",
    "import pandas as pd\n",
    "import geopandas as gpd\n",
    "import rasterio as rio\n",
    "import rasterstats as rs\n",
    "import matplotlib.pyplot as plt\n",
    "from rasterio.plot import show\n",
    "import mapclassify\n",
    "\n",
    "#change default figure size\n",
    "plt.rcParams['figure.figsize'] = (12,12)"
   ]
  },
  {
   "cell_type": "code",
   "execution_count": 9,
   "id": "fe77090a",
   "metadata": {},
   "outputs": [],
   "source": [
    "# read in raw census tract data from .zip and convert to geodataframe\n",
    "svi = gpd.read_file(r\"C:\\NewMapsPlus\\Map698\\us-communities-fire\\data\\SVI2018_US.zip\")"
   ]
  },
  {
   "cell_type": "code",
   "execution_count": null,
   "id": "63d44a3d",
   "metadata": {},
   "outputs": [],
   "source": [
    "# have a look at the tract data in map form\n",
    "ax = svi.plot(figsize=(12,12));\n",
    "ax.set(xlim=(-140,-60), ylim=(20, 60)) # scale the figure with axes values"
   ]
  },
  {
   "cell_type": "code",
   "execution_count": null,
   "id": "b049e3d9",
   "metadata": {},
   "outputs": [],
   "source": [
    "# get some metadata on the tracts\n",
    "svi.info"
   ]
  },
  {
   "cell_type": "code",
   "execution_count": null,
   "id": "737c11e2",
   "metadata": {},
   "outputs": [],
   "source": [
    "# get crs from data\n",
    "svi.crs"
   ]
  },
  {
   "cell_type": "code",
   "execution_count": null,
   "id": "dbecab05",
   "metadata": {},
   "outputs": [],
   "source": [
    "# read in cdps shapefile\n",
    "cdps = gpd.read_file(r'C:\\NewMapsPlus\\Map698\\us-communities-fire\\notebooks\\data\\cdps.shp')"
   ]
  },
  {
   "cell_type": "code",
   "execution_count": null,
   "id": "9c147af0",
   "metadata": {},
   "outputs": [],
   "source": [
    "# look at the cdps\n",
    "ax = cdps.plot()"
   ]
  },
  {
   "cell_type": "code",
   "execution_count": null,
   "id": "27b891d4",
   "metadata": {},
   "outputs": [],
   "source": [
    "# get cdp crs\n",
    "cdps.crs"
   ]
  },
  {
   "cell_type": "markdown",
   "id": "eb85131f",
   "metadata": {},
   "source": [
    "### Project Data Frames to same CRS for Overlay"
   ]
  },
  {
   "cell_type": "code",
   "execution_count": null,
   "id": "041f06bd",
   "metadata": {},
   "outputs": [],
   "source": [
    "# get the svi CRS again\n",
    "print(svi.crs)"
   ]
  },
  {
   "cell_type": "code",
   "execution_count": null,
   "id": "8b64876d",
   "metadata": {
    "scrolled": false
   },
   "outputs": [],
   "source": [
    "# et the cdps CRS again\n",
    "print(cdps.crs)"
   ]
  },
  {
   "cell_type": "markdown",
   "id": "4122a64e",
   "metadata": {},
   "source": [
    "#### Project both dataframes to equidistant conic projection since we'll be doing some overlays and weighting the results spatially"
   ]
  },
  {
   "cell_type": "code",
   "execution_count": null,
   "id": "cfb29f37",
   "metadata": {},
   "outputs": [],
   "source": [
    "# set a variable with parameters for USA Contiguous Equidistant\n",
    "project_params  = '+proj=eqdc +lat_0=39 +lon_0=-96 +lat_1=33 +lat_2=45 +x_0=0 +y_0=0 +datum=NAD83 +units=m +no_defs'\n",
    "\n",
    "# reproject and assign to new variables\n",
    "cdps_ec = cdps.to_crs(project_params)\n",
    "svi_ec = svi.to_crs(project_params)"
   ]
  },
  {
   "cell_type": "code",
   "execution_count": null,
   "id": "edf61e68",
   "metadata": {
    "scrolled": true
   },
   "outputs": [],
   "source": [
    "# overlay reprojected cdps on reprojected svis\n",
    "fig, ax = plt.subplots()\n",
    "\n",
    "svi_ec.plot(ax=ax, zorder=1);\n",
    "cdps_ec.plot(ax=ax, color='red', zorder=2);\n",
    "\n",
    "ax.set(title='CDPS and SVI Tracts')\n",
    "ax.set(xlim=(-2500000, 2500000), ylim=(-2000000, 2000000));"
   ]
  },
  {
   "cell_type": "markdown",
   "id": "6cea7211",
   "metadata": {},
   "source": [
    "### Intersect Tracts and CDPs\n",
    "Use geopandas overlay method to intersect polygon dataframes"
   ]
  },
  {
   "cell_type": "code",
   "execution_count": null,
   "id": "f35f9311",
   "metadata": {},
   "outputs": [],
   "source": [
    "# input re-projected dataframes using intersection as method of overlay\n",
    "cdps_svi_int = gpd.overlay(svi_ec, cdps_ec, how='intersection')"
   ]
  },
  {
   "cell_type": "code",
   "execution_count": null,
   "id": "589dddb8",
   "metadata": {},
   "outputs": [],
   "source": [
    "# inspect the output and show all columns\n",
    "pd.set_option(\"display.max_columns\", None)\n",
    "\n",
    "cdps_svi_int.head()"
   ]
  },
  {
   "cell_type": "code",
   "execution_count": null,
   "id": "c558b73f",
   "metadata": {},
   "outputs": [],
   "source": [
    "# get info about output\n",
    "cdps_svi_int.info"
   ]
  },
  {
   "cell_type": "code",
   "execution_count": null,
   "id": "ef1a0fc4",
   "metadata": {},
   "outputs": [],
   "source": [
    "# plot intersection results in the CDP of El Dorado Hills, CA\n",
    "eldhills = cdps_svi_int.loc[cdps_svi_int['NAME_x'] == 'El Dorado Hills']\n",
    "\n",
    "eldhills.plot();"
   ]
  },
  {
   "cell_type": "code",
   "execution_count": null,
   "id": "853a3560",
   "metadata": {},
   "outputs": [],
   "source": [
    "# keep useful columns and add to new dataframe\n",
    "cdps_svis = cdps_svi_int.filter(['ST','STATE', 'ST_ABBR','STCNTY','COUNTY', 'FIPS','LOCATION', 'AREA_SQMI', 'RPL_THEME1', 'RPL_THEME2', 'RPL_THEME3', 'RPL_THEME4', 'RPL_THEMES', \n",
    "                                'AFFGEOID_x', 'GEOID', 'NAME_x','NAMELSAD_x', 'STUSPS_x', 'STATE_NAME','Acres_x','majority','geometry' ])"
   ]
  },
  {
   "cell_type": "code",
   "execution_count": null,
   "id": "a9f43f5b",
   "metadata": {},
   "outputs": [],
   "source": [
    "# inspect the dataframe and show all columns\n",
    "pd.set_option(\"display.max_columns\", None)\n",
    "\n",
    "cdps_svis.head()"
   ]
  },
  {
   "cell_type": "code",
   "execution_count": null,
   "id": "a3aeae7a",
   "metadata": {},
   "outputs": [],
   "source": [
    "# write the new dataframe to a shapefile\n",
    "cdps_svis.to_file(r'C:\\NewMapsPlus\\Map698\\us-communities-fire\\data\\cdps_svis.shp')"
   ]
  }
 ],
 "metadata": {
  "kernelspec": {
   "display_name": "Python 3 (ipykernel)",
   "language": "python",
   "name": "python3"
  },
  "language_info": {
   "codemirror_mode": {
    "name": "ipython",
    "version": 3
   },
   "file_extension": ".py",
   "mimetype": "text/x-python",
   "name": "python",
   "nbconvert_exporter": "python",
   "pygments_lexer": "ipython3",
   "version": "3.7.11"
  }
 },
 "nbformat": 4,
 "nbformat_minor": 5
}
