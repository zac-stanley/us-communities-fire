{
 "cells": [
  {
   "cell_type": "markdown",
   "id": "de44a615",
   "metadata": {},
   "source": [
    "# Exploring Initial Datasets for Project\n",
    "This notebook is for will importing key modules and beginning to explore data for final MS Project."
   ]
  },
  {
   "cell_type": "code",
   "execution_count": 6,
   "id": "3201f98b",
   "metadata": {},
   "outputs": [],
   "source": [
    "import numpy, matplotlib, pandas, geopandas, pandas, fiona"
   ]
  },
  {
   "cell_type": "code",
   "execution_count": 14,
   "id": "01d67b50",
   "metadata": {},
   "outputs": [],
   "source": [
    "# load census designated places shapefile\n",
    "cdps_raw = geopandas.read_file(\"C:/NewMapsPlus/Map698/us-communities-fire/data/cb_2020_us_place_500k.zip\")"
   ]
  },
  {
   "cell_type": "code",
   "execution_count": 15,
   "id": "8db865b8",
   "metadata": {},
   "outputs": [
    {
     "data": {
      "text/plain": [
       "geopandas.geodataframe.GeoDataFrame"
      ]
     },
     "execution_count": 15,
     "metadata": {},
     "output_type": "execute_result"
    }
   ],
   "source": [
    "# inspect\n",
    "type(cdps_raw)"
   ]
  },
  {
   "cell_type": "code",
   "execution_count": 16,
   "id": "ff94e5e6",
   "metadata": {},
   "outputs": [
    {
     "name": "stdout",
     "output_type": "stream",
     "text": [
      "<class 'geopandas.geodataframe.GeoDataFrame'>\n",
      "RangeIndex: 32188 entries, 0 to 32187\n",
      "Data columns (total 13 columns):\n",
      " #   Column      Non-Null Count  Dtype   \n",
      "---  ------      --------------  -----   \n",
      " 0   STATEFP     32188 non-null  object  \n",
      " 1   PLACEFP     32188 non-null  object  \n",
      " 2   PLACENS     32188 non-null  object  \n",
      " 3   AFFGEOID    32188 non-null  object  \n",
      " 4   GEOID       32188 non-null  object  \n",
      " 5   NAME        32188 non-null  object  \n",
      " 6   NAMELSAD    32188 non-null  object  \n",
      " 7   STUSPS      32188 non-null  object  \n",
      " 8   STATE_NAME  32188 non-null  object  \n",
      " 9   LSAD        32188 non-null  object  \n",
      " 10  ALAND       32188 non-null  int64   \n",
      " 11  AWATER      32188 non-null  int64   \n",
      " 12  geometry    32188 non-null  geometry\n",
      "dtypes: geometry(1), int64(2), object(10)\n",
      "memory usage: 3.2+ MB\n"
     ]
    }
   ],
   "source": [
    "cdps_raw.info()"
   ]
  },
  {
   "cell_type": "code",
   "execution_count": 17,
   "id": "05764435",
   "metadata": {},
   "outputs": [
    {
     "data": {
      "text/plain": [
       "<Geographic 2D CRS: EPSG:4269>\n",
       "Name: NAD83\n",
       "Axis Info [ellipsoidal]:\n",
       "- Lat[north]: Geodetic latitude (degree)\n",
       "- Lon[east]: Geodetic longitude (degree)\n",
       "Area of Use:\n",
       "- name: North America - NAD83\n",
       "- bounds: (167.65, 14.92, -47.74, 86.46)\n",
       "Datum: North American Datum 1983\n",
       "- Ellipsoid: GRS 1980\n",
       "- Prime Meridian: Greenwich"
      ]
     },
     "execution_count": 17,
     "metadata": {},
     "output_type": "execute_result"
    }
   ],
   "source": [
    "cdps_raw.crs"
   ]
  },
  {
   "cell_type": "code",
   "execution_count": null,
   "id": "402533c0",
   "metadata": {},
   "outputs": [],
   "source": []
  }
 ],
 "metadata": {
  "kernelspec": {
   "display_name": "Python 3 (ipykernel)",
   "language": "python",
   "name": "python3"
  },
  "language_info": {
   "codemirror_mode": {
    "name": "ipython",
    "version": 3
   },
   "file_extension": ".py",
   "mimetype": "text/x-python",
   "name": "python",
   "nbconvert_exporter": "python",
   "pygments_lexer": "ipython3",
   "version": "3.9.7"
  }
 },
 "nbformat": 4,
 "nbformat_minor": 5
}
