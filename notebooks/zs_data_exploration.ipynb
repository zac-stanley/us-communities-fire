{
 "cells": [
  {
   "cell_type": "markdown",
   "id": "de44a615",
   "metadata": {},
   "source": [
    "# Exploring Initial Datasets for Project\n",
    "This notebooke will import key modules and being eplxoring data for final MS Project."
   ]
  },
  {
   "cell_type": "code",
   "execution_count": null,
   "id": "3201f98b",
   "metadata": {},
   "outputs": [],
   "source": []
  }
 ],
 "metadata": {
  "kernelspec": {
   "display_name": "Python 3 (ipykernel)",
   "language": "python",
   "name": "python3"
  },
  "language_info": {
   "codemirror_mode": {
    "name": "ipython",
    "version": 3
   },
   "file_extension": ".py",
   "mimetype": "text/x-python",
   "name": "python",
   "nbconvert_exporter": "python",
   "pygments_lexer": "ipython3",
   "version": "3.9.7"
  }
 },
 "nbformat": 4,
 "nbformat_minor": 5
}
